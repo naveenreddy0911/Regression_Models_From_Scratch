{
 "cells": [
  {
   "cell_type": "code",
   "execution_count": 1,
   "id": "564c0b9a",
   "metadata": {},
   "outputs": [],
   "source": [
    "import pandas as pd\n",
    "import numpy as np\n",
    "\n",
    "X=np.random.randn(50,6)\n",
    "df=pd.DataFrame(X,columns=[f'X{i+1}' for i in range(6)])\n",
    "y=np.dot(X,[1.5,-2.0,0.5,0.0,1.0,-1.0])+np.random.randn(50)*0.5\n",
    "df['Y']=y"
   ]
  },
  {
   "cell_type": "code",
   "execution_count": 2,
   "id": "164694e4",
   "metadata": {},
   "outputs": [],
   "source": [
    "class LinearRegression_OLS:\n",
    "    def __init__(self,alpha=0.1):\n",
    "        self.coef_=None\n",
    "        self.intercept_=None\n",
    "        self.alpha=alpha\n",
    "        \n",
    "    def fit(self,X_train,y_train):\n",
    "        X_train=np.insert(X_train,0,1,axis=1)\n",
    "        I=np.identity(X_train.shape[1])\n",
    "        betas=np.linalg.inv(np.dot(X_train.T,X_train)+self.alpha*I).dot(X_train.T).dot(y_train)\n",
    "        self.coef_=betas[1:]\n",
    "        self.intercept_=betas[0]\n",
    "        \n",
    "    def predict(self,X_test):\n",
    "        return np.dot(X_test,self.coef_)+self.intercept_"
   ]
  },
  {
   "cell_type": "code",
   "execution_count": 3,
   "id": "bc49d02b",
   "metadata": {},
   "outputs": [
    {
     "name": "stdout",
     "output_type": "stream",
     "text": [
      "[ 2.59276329  1.65772676  2.87071447 -3.25562293  2.55240585  1.80014675\n",
      "  2.151473    1.15251058  0.75797907  2.18133533]\n"
     ]
    }
   ],
   "source": [
    "from sklearn.model_selection import train_test_split\n",
    "\n",
    "X_train,X_test,y_train,y_test=train_test_split(df.drop(columns=['Y']),df['Y'],train_size=0.8)\n",
    "\n",
    "lr=LinearRegression_OLS()\n",
    "lr.fit(X_train,y_train)\n",
    "\n",
    "y_pred=lr.predict(X_test)\n",
    "print(y_pred)"
   ]
  },
  {
   "cell_type": "code",
   "execution_count": null,
   "id": "8ee035a4",
   "metadata": {},
   "outputs": [],
   "source": []
  }
 ],
 "metadata": {
  "kernelspec": {
   "display_name": "venv",
   "language": "python",
   "name": "python3"
  },
  "language_info": {
   "codemirror_mode": {
    "name": "ipython",
    "version": 3
   },
   "file_extension": ".py",
   "mimetype": "text/x-python",
   "name": "python",
   "nbconvert_exporter": "python",
   "pygments_lexer": "ipython3",
   "version": "3.9.7"
  }
 },
 "nbformat": 4,
 "nbformat_minor": 5
}
