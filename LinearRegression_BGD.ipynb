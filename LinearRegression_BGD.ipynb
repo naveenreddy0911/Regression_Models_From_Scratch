{
 "cells": [
  {
   "cell_type": "code",
   "execution_count": 4,
   "id": "579cba1f",
   "metadata": {},
   "outputs": [],
   "source": [
    "import pandas as pd\n",
    "import numpy as np\n",
    "\n",
    "X=np.random.randn(50,6)\n",
    "df=pd.DataFrame(X,columns=[f'X{i+1}' for i in range(6)])\n",
    "y=np.dot(X,[1.5,-2.0,0.5,0.0,1.0,-1.0])+np.random.randn(50)*0.5\n",
    "df['Y']=y"
   ]
  },
  {
   "cell_type": "code",
   "execution_count": 5,
   "id": "50b8fdaa",
   "metadata": {},
   "outputs": [],
   "source": [
    "class LinearRegression_BatchGD:\n",
    "    def __init__(self,learning_rate=0.01,epochs=50,alpha=0.1):\n",
    "        self.coef_=None\n",
    "        self.intercept_=None\n",
    "        self.lr=learning_rate\n",
    "        self.epochs=epochs\n",
    "        self.alpha=alpha\n",
    "    \n",
    "    def fit(self,X_train,y_train):\n",
    "        self.coef_=np.ones(X_train.shape[1])\n",
    "        self.intercept_=0\n",
    "        \n",
    "        for _ in range(self.epochs):\n",
    "            y_hat=self.intercept_+np.dot(X_train,self.coef_)\n",
    "            \n",
    "            intercept_derivative=-2*np.mean(y_train-y_hat)\n",
    "            coef_derivative=-2*np.dot(y_train-y_hat,X_train)/X_train.shape[0]+2*self.alpha*self.coef_\n",
    "            \n",
    "            self.intercept_=self.intercept_-(self.lr)*intercept_derivative\n",
    "            self.coef_=self.coef_-(self.lr)*coef_derivative\n",
    "    \n",
    "    def predict(self,X_test):\n",
    "        return np.dot(X_test,self.coef_)+self.intercept_"
   ]
  },
  {
   "cell_type": "code",
   "execution_count": 6,
   "id": "930501a4",
   "metadata": {},
   "outputs": [
    {
     "name": "stdout",
     "output_type": "stream",
     "text": [
      "[-1.14275109 -1.85887309 -0.09333524  2.98406314 -3.33428372  3.42438598\n",
      " -0.41859239  1.43574071  0.30825341 -2.61107639]\n"
     ]
    }
   ],
   "source": [
    "from sklearn.model_selection import train_test_split\n",
    "\n",
    "X_train,X_test,y_train,y_test=train_test_split(df.drop(columns=['Y']),df['Y'],train_size=0.8)\n",
    "\n",
    "lr=LinearRegression_BatchGD()\n",
    "lr.fit(X_train,y_train)\n",
    "\n",
    "y_pred=lr.predict(X_test)\n",
    "print(y_pred)"
   ]
  },
  {
   "cell_type": "code",
   "execution_count": null,
   "id": "7103cccb",
   "metadata": {},
   "outputs": [],
   "source": []
  }
 ],
 "metadata": {
  "kernelspec": {
   "display_name": "venv",
   "language": "python",
   "name": "python3"
  },
  "language_info": {
   "codemirror_mode": {
    "name": "ipython",
    "version": 3
   },
   "file_extension": ".py",
   "mimetype": "text/x-python",
   "name": "python",
   "nbconvert_exporter": "python",
   "pygments_lexer": "ipython3",
   "version": "3.9.7"
  }
 },
 "nbformat": 4,
 "nbformat_minor": 5
}
