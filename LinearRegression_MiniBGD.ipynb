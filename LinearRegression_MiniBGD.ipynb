{
 "cells": [
  {
   "cell_type": "code",
   "execution_count": 21,
   "id": "7471eaee",
   "metadata": {},
   "outputs": [],
   "source": [
    "import pandas as pd\n",
    "import numpy as np\n",
    "\n",
    "X=np.random.randn(50,6)\n",
    "df=pd.DataFrame(X,columns=[f'X{i+1}' for i in range(6)])\n",
    "y=np.dot(X,[1.5,-2.0,0.5,0.0,1.0,-1.0])+np.random.randn(50)*0.5\n",
    "df['Y']=y"
   ]
  },
  {
   "cell_type": "code",
   "execution_count": null,
   "id": "181e5378",
   "metadata": {},
   "outputs": [],
   "source": [
    "class LinearRegression_MiniBGD:\n",
    "    def __init__(self,learning_rate=0.01,epochs=50,batch_size=32):\n",
    "        self.coef_=None\n",
    "        self.intercept_=None\n",
    "        self.lr=learning_rate\n",
    "        self.epochs=epochs\n",
    "        self.batch_size=batch_size\n",
    "    \n",
    "    def fit(self,X_train,y_train):\n",
    "        self.coef_=np.ones(X_train.shape[1])\n",
    "        self.intercept_=0\n",
    "\n",
    "        for _ in range(self.epochs):\n",
    "            for _ in range(X_train.shape[0]//self.batch_size):\n",
    "                indices=np.random.randint(0,X_train.shape[0],self.batch_size)\n",
    "                y_hat=self.intercept_+np.dot(X_train.iloc[indices],self.coef_)\n",
    "\n",
    "                intercept_derivative=-2*np.mean(y_train.iloc[indices]-y_hat)\n",
    "                coef_derivative=-2*np.dot(y_train.iloc[indices]-y_hat,X_train.iloc[indices])/self.batch_size\n",
    "\n",
    "                self.intercept_ -= self.lr * intercept_derivative\n",
    "                self.coef_ -= self.lr * coef_derivative\n",
    "\n",
    "    def predict(self,X_test):\n",
    "        return np.dot(X_test,self.coef_)+self.intercept_"
   ]
  },
  {
   "cell_type": "code",
   "execution_count": 25,
   "id": "62d0c69f",
   "metadata": {},
   "outputs": [
    {
     "name": "stdout",
     "output_type": "stream",
     "text": [
      "[ 1.61760801  0.26687018  1.77486336  5.34279666 -0.14773262  1.57993627\n",
      " -5.88259588  2.81990661 -3.74984867 -2.83071744]\n"
     ]
    }
   ],
   "source": [
    "from sklearn.model_selection import train_test_split\n",
    "\n",
    "X_train,X_test,y_train,y_test=train_test_split(df.drop(columns=['Y']),df['Y'],train_size=0.8)\n",
    "\n",
    "lr=LinearRegression_MiniBGD()\n",
    "lr.fit(X_train,y_train)\n",
    "\n",
    "y_pred=lr.predict(X_test)\n",
    "print(y_pred)"
   ]
  },
  {
   "cell_type": "code",
   "execution_count": null,
   "id": "90c327a2",
   "metadata": {},
   "outputs": [],
   "source": []
  }
 ],
 "metadata": {
  "kernelspec": {
   "display_name": "venv",
   "language": "python",
   "name": "python3"
  },
  "language_info": {
   "codemirror_mode": {
    "name": "ipython",
    "version": 3
   },
   "file_extension": ".py",
   "mimetype": "text/x-python",
   "name": "python",
   "nbconvert_exporter": "python",
   "pygments_lexer": "ipython3",
   "version": "3.9.7"
  }
 },
 "nbformat": 4,
 "nbformat_minor": 5
}
