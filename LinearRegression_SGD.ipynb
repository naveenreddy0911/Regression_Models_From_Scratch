{
 "cells": [
  {
   "cell_type": "code",
   "execution_count": 34,
   "id": "8b6aac92",
   "metadata": {},
   "outputs": [],
   "source": [
    "import pandas as pd\n",
    "import numpy as np\n",
    "\n",
    "X=np.random.randn(50,6)\n",
    "df=pd.DataFrame(X,columns=[f'X{i+1}' for i in range(6)])\n",
    "y=np.dot(X,[1.5,-2.0,0.5,0.0,1.0,-1.0])+np.random.randn(50)*0.5\n",
    "df['Y']=y"
   ]
  },
  {
   "cell_type": "code",
   "execution_count": null,
   "id": "8453c43f",
   "metadata": {},
   "outputs": [],
   "source": [
    "class LinearRegression_SGD:\n",
    "    def __init__(self,learning_rate=0.01,epochs=50):\n",
    "        self.coef_=None\n",
    "        self.intercept_=None\n",
    "        self.lr=learning_rate\n",
    "        self.epochs=epochs\n",
    "    \n",
    "    def fit(self,X_train,y_train):\n",
    "        self.coef_=np.ones(X_train.shape[1])\n",
    "        self.intercept_=0\n",
    "\n",
    "        for _ in range(self.epochs):\n",
    "            for _ in range(X_train.shape[0]):\n",
    "                index=np.random.randint(X_train.shape[0])\n",
    "                y_hat=self.intercept_+np.dot(X_train.iloc[index],self.coef_)\n",
    "\n",
    "                intercept_derivative=-2*(y_train.iloc[index]-y_hat)\n",
    "                coef_derivative=-2*(y_train.iloc[index]-y_hat)*X_train.iloc[index]\n",
    "\n",
    "                self.intercept_ -= self.lr * intercept_derivative\n",
    "                self.coef_ -= self.lr * coef_derivative\n",
    "\n",
    "    def predict(self,X_test):\n",
    "        return np.dot(X_test,self.coef_)+self.intercept_"
   ]
  },
  {
   "cell_type": "code",
   "execution_count": 36,
   "id": "a36ab125",
   "metadata": {},
   "outputs": [
    {
     "name": "stdout",
     "output_type": "stream",
     "text": [
      "[-4.91129259 -7.86221232  3.17348128 -0.18704884 -0.20257807  5.97605046\n",
      " -2.57404026  2.83487016  0.68227743 -2.18717757]\n"
     ]
    }
   ],
   "source": [
    "from sklearn.model_selection import train_test_split\n",
    "\n",
    "X_train,X_test,y_train,y_test=train_test_split(df.drop(columns=['Y']),df['Y'],train_size=0.8)\n",
    "\n",
    "lr=LinearRegression_SGD()\n",
    "lr.fit(X_train,y_train)\n",
    "\n",
    "y_pred=lr.predict(X_test)\n",
    "print(y_pred)"
   ]
  },
  {
   "cell_type": "code",
   "execution_count": null,
   "id": "053b7b2d",
   "metadata": {},
   "outputs": [],
   "source": []
  }
 ],
 "metadata": {
  "kernelspec": {
   "display_name": "venv",
   "language": "python",
   "name": "python3"
  },
  "language_info": {
   "codemirror_mode": {
    "name": "ipython",
    "version": 3
   },
   "file_extension": ".py",
   "mimetype": "text/x-python",
   "name": "python",
   "nbconvert_exporter": "python",
   "pygments_lexer": "ipython3",
   "version": "3.9.7"
  }
 },
 "nbformat": 4,
 "nbformat_minor": 5
}
